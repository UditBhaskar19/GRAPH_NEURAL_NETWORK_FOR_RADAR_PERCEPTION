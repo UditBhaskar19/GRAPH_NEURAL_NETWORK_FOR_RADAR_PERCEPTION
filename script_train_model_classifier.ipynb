{
 "cells": [
  {
   "cell_type": "code",
   "execution_count": null,
   "metadata": {},
   "outputs": [],
   "source": [
    "# import torch\n",
    "# device = 'cuda'\n",
    "# k = [torch.tensor([1]).to(int).to(device)]"
   ]
  },
  {
   "cell_type": "code",
   "execution_count": null,
   "metadata": {},
   "outputs": [],
   "source": [
    "import os, sys\n",
    "module_rootdir = '.'\n",
    "dataset_rootdir = '.'\n",
    "label_rootdir = module_rootdir\n",
    "sys.path.append(module_rootdir)\n",
    "\n",
    "from modules.set_configurations.set_config_classifier import config\n",
    "from modules.neural_net.classifier.training import train_model, train_model_accumulate_grad\n",
    "from modules.set_configurations.set_param_for_training_classifier import set_parameters_for_training\n",
    "\n",
    "from torch.utils.tensorboard import SummaryWriter"
   ]
  },
  {
   "cell_type": "code",
   "execution_count": null,
   "metadata": {},
   "outputs": [],
   "source": [
    "proposal_config_file_path = './configuration_radarscenes_gnn.yml'\n",
    "classifier_config_file_path = './configuration_radarscenes_classifier.yml'\n",
    "config_obj = config(proposal_config_file_path, classifier_config_file_path)\n",
    "\n",
    "tensorboard_data_dir = './tensorboard/classifier/radar_obj_detector'\n",
    "tb_writer = SummaryWriter(tensorboard_data_dir)\n",
    "# type < tensorboard --logdir=tensorboard/classifier/radar_obj_detector > in the cmd\n",
    "\n",
    "log_period = 5\n",
    "val_period = 1000\n",
    "batch_size_desired = 2\n",
    "batch_size_system_supported = 1\n",
    "grad_accumulation_steps = batch_size_desired // batch_size_system_supported\n",
    "region_proposal_weights_path = './model_weights/gnn/1715232829109/graph_based_detector.pt'\n",
    "\n",
    "starting_iter_num = 0\n",
    "load_model_weights_train = False\n",
    "trained_weights_path = ''\n",
    "\n",
    "objects_dict = set_parameters_for_training(\n",
    "    module_rootdir = module_rootdir,\n",
    "    dataset_rootdir = dataset_rootdir,\n",
    "    config_obj = config_obj,\n",
    "    batch_size = batch_size_system_supported,\n",
    "    trained_region_proposal_weights_path = region_proposal_weights_path,\n",
    "    starting_iter_num = starting_iter_num,\n",
    "    load_model_weights_train = load_model_weights_train,\n",
    "    trained_weights_path = trained_weights_path)"
   ]
  },
  {
   "cell_type": "code",
   "execution_count": null,
   "metadata": {},
   "outputs": [],
   "source": [
    "train_model(   \n",
    "    detector = objects_dict['detector'],\n",
    "    optimizer = objects_dict['optimizer'],\n",
    "    lr_scheduler = objects_dict['lr_scheduler'],\n",
    "    dataloader_train = objects_dict['dataloader_train'],\n",
    "    dataloader_val = objects_dict['dataloader_val'],\n",
    "    tb_writer = tb_writer,\n",
    "    max_iters = config_obj.max_train_iter,\n",
    "    log_period = log_period,\n",
    "    val_period = val_period,\n",
    "    iter_start_offset = starting_iter_num,\n",
    "    model_weights_dir = config_obj.model_weights_dir,\n",
    "    weights_name = config_obj.weights_name)\n",
    "\n",
    "\n",
    "# train_model_accumulate_grad(\n",
    "#     detector = objects_dict['detector'],\n",
    "#     optimizer = objects_dict['optimizer'],\n",
    "#     lr_scheduler = objects_dict['lr_scheduler'],\n",
    "#     dataloader_train = objects_dict['dataloader_train'],\n",
    "#     dataloader_val = objects_dict['dataloader_val'],\n",
    "#     tb_writer = tb_writer,\n",
    "#     max_iters = config_obj.max_train_iter,\n",
    "#     grad_accumulation_steps = grad_accumulation_steps,\n",
    "#     log_period = log_period,\n",
    "#     val_period = val_period,\n",
    "#     iter_start_offset = starting_iter_num,\n",
    "#     model_weights_dir = config_obj.model_weights_dir,\n",
    "#     weights_name = config_obj.weights_name)"
   ]
  },
  {
   "cell_type": "code",
   "execution_count": null,
   "metadata": {},
   "outputs": [],
   "source": []
  },
  {
   "cell_type": "code",
   "execution_count": null,
   "metadata": {},
   "outputs": [],
   "source": []
  },
  {
   "cell_type": "code",
   "execution_count": null,
   "metadata": {},
   "outputs": [],
   "source": []
  }
 ],
 "metadata": {
  "kernelspec": {
   "display_name": "torch2",
   "language": "python",
   "name": "python3"
  },
  "language_info": {
   "codemirror_mode": {
    "name": "ipython",
    "version": 3
   },
   "file_extension": ".py",
   "mimetype": "text/x-python",
   "name": "python",
   "nbconvert_exporter": "python",
   "pygments_lexer": "ipython3",
   "version": "3.11.4"
  }
 },
 "nbformat": 4,
 "nbformat_minor": 2
}
