{
 "cells": [
  {
   "cell_type": "code",
   "execution_count": null,
   "metadata": {},
   "outputs": [],
   "source": [
    "import os, sys\n",
    "module_rootdir = '.'\n",
    "dataset_rootdir = '.'\n",
    "label_rootdir = module_rootdir\n",
    "sys.path.append(module_rootdir)\n",
    "\n",
    "from modules.set_configurations.set_config_gnn import config\n",
    "from modules.neural_net.gnn.finetuning import train_model\n",
    "from modules.set_configurations.set_param_for_finetuning_obj_classifier import set_parameters_for_finetuning\n",
    "\n",
    "from torch.utils.tensorboard import SummaryWriter"
   ]
  },
  {
   "cell_type": "code",
   "execution_count": null,
   "metadata": {},
   "outputs": [],
   "source": [
    "config_file_path = 'configuration_radarscenes_gnn.yml'\n",
    "config_obj = config(config_file_path)\n",
    "\n",
    "tensorboard_data_dir = 'tensorboard/gnn/radar_obj_detector_finetuned'\n",
    "tb_writer = SummaryWriter(tensorboard_data_dir)\n",
    "# type < tensorboard --logdir=tensorboard/gnn/radar_obj_detector_finetuned > in the cmd\n",
    "\n",
    "log_period = 5\n",
    "val_period = 1000\n",
    "batch_size_system_supported = 8\n",
    "trained_weights_path = 'model_weights/gnn/1718175257362/graph_based_detector.pt'\n",
    "\n",
    "objects_dict = set_parameters_for_finetuning(\n",
    "    module_rootdir = module_rootdir,\n",
    "    dataset_rootdir = dataset_rootdir,\n",
    "    config_obj = config_obj,\n",
    "    batch_size = batch_size_system_supported,\n",
    "    trained_weights_path = trained_weights_path)"
   ]
  },
  {
   "cell_type": "code",
   "execution_count": null,
   "metadata": {},
   "outputs": [],
   "source": [
    "train_model(   \n",
    "    detector = objects_dict['detector'],\n",
    "    optimizer = objects_dict['optimizer'],\n",
    "    lr_scheduler = None, # objects_dict['lr_scheduler'],\n",
    "    dataloader_train = objects_dict['dataloader_train'],\n",
    "    dataloader_val = objects_dict['dataloader_val'],\n",
    "    tb_writer = tb_writer,\n",
    "    max_iters = config_obj.max_train_iter_finetuning,\n",
    "    log_period = log_period,\n",
    "    val_period = val_period,\n",
    "    model_weights_dir = config_obj.model_weights_dir,\n",
    "    weights_name = config_obj.finetuned_weights_name)"
   ]
  },
  {
   "cell_type": "code",
   "execution_count": null,
   "metadata": {},
   "outputs": [],
   "source": []
  },
  {
   "cell_type": "code",
   "execution_count": null,
   "metadata": {},
   "outputs": [],
   "source": []
  },
  {
   "cell_type": "code",
   "execution_count": null,
   "metadata": {},
   "outputs": [],
   "source": []
  }
 ],
 "metadata": {
  "kernelspec": {
   "display_name": "torch2",
   "language": "python",
   "name": "python3"
  },
  "language_info": {
   "codemirror_mode": {
    "name": "ipython",
    "version": 3
   },
   "file_extension": ".py",
   "mimetype": "text/x-python",
   "name": "python",
   "nbconvert_exporter": "python",
   "pygments_lexer": "ipython3",
   "version": "3.11.4"
  }
 },
 "nbformat": 4,
 "nbformat_minor": 2
}
