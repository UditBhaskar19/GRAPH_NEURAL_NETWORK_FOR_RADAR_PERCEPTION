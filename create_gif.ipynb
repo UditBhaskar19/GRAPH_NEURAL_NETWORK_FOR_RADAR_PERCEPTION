{
 "cells": [
  {
   "cell_type": "code",
   "execution_count": 3,
   "metadata": {},
   "outputs": [],
   "source": [
    "import os\n",
    "import imageio.v3 as iio\n",
    "\n",
    "scene = 'sequence_147'"
   ]
  },
  {
   "cell_type": "markdown",
   "metadata": {},
   "source": [
    "### Create GIF for prediction outputs"
   ]
  },
  {
   "cell_type": "code",
   "execution_count": 2,
   "metadata": {},
   "outputs": [],
   "source": [
    "gif_input_dir = 'results/outputs'\n",
    "gif_output_dir = 'results_gif/outputs'\n",
    "os.makedirs(gif_output_dir, exist_ok=True)\n",
    "\n",
    "image_dir = os.path.join(gif_input_dir, scene)\n",
    "num_images = len(os.listdir(image_dir))\n",
    "image_ext = '.PNG'\n",
    "\n",
    "image_paths = []\n",
    "for i in range(num_images):\n",
    "    image = str(i) + image_ext\n",
    "    image_paths.append(os.path.join(image_dir, image))\n",
    "\n",
    "images = [ ]\n",
    "for filename in image_paths[:200]:\n",
    "    images.append(iio.imread(filename))\n",
    "\n",
    "gif_output_file = os.path.join(gif_output_dir, scene + '.gif')\n",
    "iio.imwrite(gif_output_file, images, duration = 20, loop = 0)"
   ]
  },
  {
   "cell_type": "markdown",
   "metadata": {},
   "source": [
    "### Create GIF for prediction vs gt clusters"
   ]
  },
  {
   "cell_type": "code",
   "execution_count": 4,
   "metadata": {},
   "outputs": [],
   "source": [
    "gif_input_dir = 'results/compare'\n",
    "gif_output_dir = 'results_gif/compare'\n",
    "os.makedirs(gif_output_dir, exist_ok=True)\n",
    "\n",
    "image_dir = os.path.join(gif_input_dir, scene)\n",
    "num_images = len(os.listdir(image_dir))\n",
    "image_ext = '.PNG'\n",
    "\n",
    "image_paths = []\n",
    "for i in range(num_images):\n",
    "    image = str(i) + image_ext\n",
    "    image_paths.append(os.path.join(image_dir, image))\n",
    "\n",
    "images = [ ]\n",
    "for filename in image_paths[:200]:\n",
    "    images.append(iio.imread(filename))\n",
    "\n",
    "gif_output_file = os.path.join(gif_output_dir, scene + '.gif')\n",
    "iio.imwrite(gif_output_file, images, duration = 20, loop = 0)"
   ]
  }
 ],
 "metadata": {
  "kernelspec": {
   "display_name": "torch2",
   "language": "python",
   "name": "python3"
  },
  "language_info": {
   "codemirror_mode": {
    "name": "ipython",
    "version": 3
   },
   "file_extension": ".py",
   "mimetype": "text/x-python",
   "name": "python",
   "nbconvert_exporter": "python",
   "pygments_lexer": "ipython3",
   "version": "3.11.4"
  }
 },
 "nbformat": 4,
 "nbformat_minor": 2
}
